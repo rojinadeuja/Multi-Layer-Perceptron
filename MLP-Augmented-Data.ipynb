{
 "cells": [
  {
   "cell_type": "markdown",
   "metadata": {
    "collapsed": true
   },
   "source": [
    "# Multi-Layer Perceptron (MLP) - Model Invariance & Effect of Data Augmentation\n",
    "\n",
    "In this notebook, we use the popular MNIST dataset, which is a collection of 70,000 handwritten digits. It is a subset of a larger set available from NIST. The digits have been size-normalized and centered in a fixed-size image. The goal is to identify the numbers using Pattern Recognition techniques.\n",
    "\n",
    "This notebook is created to test an important performance issue of a Multi-Layer Perceptron (MLP). It is important to consider whether an MLP's predictions remain unchanged, or invariant, under one or more transformations of the input data. \n",
    "\n",
    "ie. We will implement a solution that ensures the invariance of the MLP model. For this, we will use a dataset that has three types of invariance present, namely- Translation(Shift image along x/y axis), Rotation and Noise(Add Gaussian noise to image).\n",
    "\n",
    "The training data is not-augmented. For evaulating the performance, we use test subsets with both augmented and non-augmented data."
   ]
  },
  {
   "cell_type": "code",
   "execution_count": 1,
   "metadata": {},
   "outputs": [],
   "source": [
    "import warnings\n",
    "import time\n",
    "import numpy as np\n",
    "import pandas as pd\n",
    "import copy \n",
    "import matplotlib.pyplot as plt\n",
    "%matplotlib inline\n",
    "from scipy.io import loadmat\n",
    "\n",
    "from scipy.ndimage.interpolation import shift, rotate\n",
    "from scipy.ndimage import gaussian_filter\n",
    "\n",
    "\n",
    "from sklearn.datasets import fetch_openml\n",
    "from sklearn.neural_network import MLPClassifier\n",
    "\n",
    "\n",
    "from sklearn.metrics import confusion_matrix, classification_report\n",
    "from sklearn.model_selection import train_test_split"
   ]
  },
  {
   "cell_type": "markdown",
   "metadata": {},
   "source": [
    "## Non-Augmented Data Matrix (X) and the Label Vector (y)\n",
    "\n",
    "We load the data from file or from cloud and then put it into data matrix X and label vector y."
   ]
  },
  {
   "cell_type": "code",
   "execution_count": 2,
   "metadata": {},
   "outputs": [
    {
     "name": "stdout",
     "output_type": "stream",
     "text": [
      "\n",
      "No. of Samples:  (70000, 784)\n",
      "No. of Labels:  (70000,)\n",
      "\n",
      "X type:  float64\n",
      "y type:  int64\n"
     ]
    }
   ],
   "source": [
    "# Load the data from the local folder \"data\"\n",
    "mnist = loadmat('data/mnist-original.mat')\n",
    "\n",
    "#Create the data Matrix X and the target vector y\n",
    "X = mnist[\"data\"].T.astype('float64')\n",
    "y = mnist[\"label\"][0].astype('int64')\n",
    "\n",
    "# Load data using Scikit-Learn\n",
    "# mnist = fetch_openml('mnist_784', cache=False)\n",
    "\n",
    "# X = mnist[\"data\"].astype('float64')\n",
    "# y = mnist[\"target\"].astype('int64')\n",
    "\n",
    "\n",
    "print(\"\\nNo. of Samples: \", X.shape)\n",
    "print(\"No. of Labels: \", y.shape)\n",
    "\n",
    "print(\"\\nX type: \", X.dtype)\n",
    "print(\"y type: \", y.dtype)"
   ]
  },
  {
   "cell_type": "markdown",
   "metadata": {},
   "source": [
    "## Split Data Into Training and Test Sets\n",
    "\n",
    "We use sklearn's train_test_split function to spilt the dataset into training (80%) and test (20%) subsets."
   ]
  },
  {
   "cell_type": "code",
   "execution_count": 4,
   "metadata": {},
   "outputs": [
    {
     "name": "stdout",
     "output_type": "stream",
     "text": [
      "X_train:  (56000, 784)\n",
      "X_test:  (14000, 784)\n"
     ]
    }
   ],
   "source": [
    "X_train, X_test, y_train, y_test = train_test_split(X, y, test_size=0.2, random_state=0)\n",
    "\n",
    "\n",
    "print(\"X_train: \", X_train.shape)\n",
    "print(\"X_test: \", X_test.shape)"
   ]
  },
  {
   "cell_type": "markdown",
   "metadata": {},
   "source": [
    "## Data Augmentation\n",
    "\n",
    "We define the three functions for augmenting the data in the following ways:\n",
    "- Shifting the image along x-y coordinates (to add translation invariance)\n",
    "- Rotating the image (to add rotation invariance)\n",
    "- Blurring the image by adding Gaussian noise (to add noise invariance)"
   ]
  },
  {
   "cell_type": "code",
   "execution_count": 6,
   "metadata": {},
   "outputs": [],
   "source": [
    "def shift_image(image, dx, dy):\n",
    "    '''Shift an image by some value dx,dy'''\n",
    "    image = image.reshape((28, 28))\n",
    "    shifted_image = shift(image, [dy, dx], cval=0, mode=\"constant\")\n",
    "    return shifted_image.reshape([-1])\n",
    "\n",
    "\n",
    "def rotate_image(image, angle):\n",
    "    '''Rotate an image by some angle'''\n",
    "    image = image.reshape((28, 28))\n",
    "    rotated_image = rotate(image, angle, cval=0, mode=\"constant\", reshape=False)\n",
    "    return rotated_image.reshape([-1])\n",
    "\n",
    "\n",
    "def add_gaussian_noise_image(image, sigma):\n",
    "    '''Add Gaussian noise to an image'''\n",
    "    image = image.reshape((28, 28))\n",
    "    gaussian_image = gaussian_filter(image, sigma, cval=0, mode=\"constant\") \n",
    "    return gaussian_image.reshape([-1])"
   ]
  },
  {
   "cell_type": "markdown",
   "metadata": {},
   "source": [
    "## Demo: How to Augment Data by Shifting"
   ]
  },
  {
   "cell_type": "code",
   "execution_count": 7,
   "metadata": {},
   "outputs": [
    {
     "data": {
      "image/png": "[encoded data removed]",
      "text/plain": [
       "<Figure size 1296x432 with 5 Axes>"
      ]
     },
     "metadata": {
      "needs_background": "light"
     },
     "output_type": "display_data"
    }
   ],
   "source": [
    "image = X_train[1000]\n",
    "shifted_image_1 = shift_image(image, 0, 5)\n",
    "shifted_image_2 = shift_image(image, 5, 0)\n",
    "shifted_image_3 = shift_image(image, 0, -5)\n",
    "shifted_image_4 = shift_image(image, -5, 0)\n",
    "\n",
    "\n",
    "plt.figure(figsize=(18,6))\n",
    "plt.subplot(151)\n",
    "plt.title(\"Original\", fontsize=14)\n",
    "plt.imshow(image.reshape(28, 28), interpolation=\"nearest\", cmap=\"Greys\")\n",
    "plt.subplot(152)\n",
    "plt.title(\"Shifted\", fontsize=14)\n",
    "plt.imshow(shifted_image_1.reshape(28, 28), interpolation=\"nearest\", cmap=\"Greys\")\n",
    "plt.subplot(153)\n",
    "plt.title(\"Shifted\", fontsize=14)\n",
    "plt.imshow(shifted_image_2.reshape(28, 28), interpolation=\"nearest\", cmap=\"Greys\")\n",
    "plt.subplot(154)\n",
    "plt.title(\"Shifted\", fontsize=14)\n",
    "plt.imshow(shifted_image_3.reshape(28, 28), interpolation=\"nearest\", cmap=\"Greys\")\n",
    "plt.subplot(155)\n",
    "plt.title(\"Shifted\", fontsize=14)\n",
    "plt.imshow(shifted_image_4.reshape(28, 28), interpolation=\"nearest\", cmap=\"Greys\")\n",
    "\n",
    "plt.show()"
   ]
  },
  {
   "cell_type": "markdown",
   "metadata": {},
   "source": [
    "# Demo: How to Augment Data by Rotation"
   ]
  },
  {
   "cell_type": "code",
   "execution_count": 8,
   "metadata": {},
   "outputs": [
    {
     "data": {
      "image/png": "[encoded data removed]",
      "text/plain": [
       "<Figure size 1296x432 with 5 Axes>"
      ]
     },
     "metadata": {
      "needs_background": "light"
     },
     "output_type": "display_data"
    }
   ],
   "source": [
    "image = X_train[1000]\n",
    "rotated_image_1 = rotate_image(image, -25)\n",
    "rotated_image_2 = rotate_image(image, -45)\n",
    "rotated_image_3 = rotate_image(image, 25)\n",
    "rotated_image_4 = rotate_image(image, 45)\n",
    "\n",
    "\n",
    "plt.figure(figsize=(18,6))\n",
    "plt.subplot(151)\n",
    "plt.title(\"Original\", fontsize=14)\n",
    "plt.imshow(image.reshape(28, 28), interpolation=\"nearest\", cmap=\"Greys\")\n",
    "plt.subplot(152)\n",
    "plt.title(\"Rotated\", fontsize=14)\n",
    "plt.imshow(rotated_image_1.reshape(28, 28), interpolation=\"nearest\", cmap=\"Greys\")\n",
    "plt.subplot(153)\n",
    "plt.title(\"Rotated\", fontsize=14)\n",
    "plt.imshow(rotated_image_2.reshape(28, 28), interpolation=\"nearest\", cmap=\"Greys\")\n",
    "plt.subplot(154)\n",
    "plt.title(\"Rotated\", fontsize=14)\n",
    "plt.imshow(rotated_image_3.reshape(28, 28), interpolation=\"nearest\", cmap=\"Greys\")\n",
    "plt.subplot(155)\n",
    "plt.title(\"Rotated\", fontsize=14)\n",
    "plt.imshow(rotated_image_4.reshape(28, 28), interpolation=\"nearest\", cmap=\"Greys\")\n",
    "plt.show()"
   ]
  },
  {
   "cell_type": "markdown",
   "metadata": {},
   "source": [
    "## Demo: How to Augment Data by Blurring"
   ]
  },
  {
   "cell_type": "code",
   "execution_count": 9,
   "metadata": {},
   "outputs": [
    {
     "data": {
      "image/png": "[encoded data removed]",
      "text/plain": [
       "<Figure size 1296x432 with 5 Axes>"
      ]
     },
     "metadata": {
      "needs_background": "light"
     },
     "output_type": "display_data"
    }
   ],
   "source": [
    "image = X_train[1000]\n",
    "gaussian_image_1 = add_gaussian_noise_image(image, 0.5)\n",
    "gaussian_image_2 = add_gaussian_noise_image(image, 1.0)\n",
    "gaussian_image_3 = add_gaussian_noise_image(image, 1.5)\n",
    "gaussian_image_4 = add_gaussian_noise_image(image, 2.0)\n",
    "\n",
    "\n",
    "plt.figure(figsize=(18,6))\n",
    "plt.subplot(151)\n",
    "plt.title(\"Original\", fontsize=14)\n",
    "plt.imshow(image.reshape(28, 28), interpolation=\"nearest\", cmap=\"Greys\")\n",
    "plt.subplot(152)\n",
    "plt.title(\"Blurred\", fontsize=14)\n",
    "plt.imshow(gaussian_image_1.reshape(28, 28), interpolation=\"nearest\", cmap=\"Greys\")\n",
    "plt.subplot(153)\n",
    "plt.title(\"Blurred\", fontsize=14)\n",
    "plt.imshow(gaussian_image_2.reshape(28, 28), interpolation=\"nearest\", cmap=\"Greys\")\n",
    "plt.subplot(154)\n",
    "plt.title(\"Blurred\", fontsize=14)\n",
    "plt.imshow(gaussian_image_3.reshape(28, 28), interpolation=\"nearest\", cmap=\"Greys\")\n",
    "plt.subplot(155)\n",
    "plt.title(\"Blurred\", fontsize=14)\n",
    "plt.imshow(gaussian_image_4.reshape(28, 28), interpolation=\"nearest\", cmap=\"Greys\")\n",
    "plt.show()"
   ]
  },
  {
   "cell_type": "markdown",
   "metadata": {},
   "source": [
    "## Load Augmented Test Data \n",
    "\n",
    "Load the following augmented test data file: Test_Data"
   ]
  },
  {
   "cell_type": "code",
   "execution_count": 12,
   "metadata": {},
   "outputs": [],
   "source": [
    "augmented_test_data = loadmat('data/mnist-test.mat')\n",
    "\n",
    "X_test_augmented = augmented_test_data[\"X_test\"].astype('float64')\n",
    "y_test_augmented = augmented_test_data[\"y_test\"][0].astype('int64')"
   ]
  },
  {
   "cell_type": "markdown",
   "metadata": {},
   "source": [
    "## Scale the Data"
   ]
  },
  {
   "cell_type": "code",
   "execution_count": 13,
   "metadata": {},
   "outputs": [],
   "source": [
    "# Create a deep copy of the training data for using it later for augmentation\n",
    "X_train_original = copy.deepcopy(X_train)\n",
    "\n",
    "X_train /= 255.0\n",
    "X_test /= 255.0\n",
    "X_test_augmented /= 255.0"
   ]
  },
  {
   "cell_type": "markdown",
   "metadata": {},
   "source": [
    "## Train MLP Model using Non-Augmened Training Data"
   ]
  },
  {
   "cell_type": "code",
   "execution_count": 14,
   "metadata": {},
   "outputs": [
    {
     "name": "stdout",
     "output_type": "stream",
     "text": [
      "Iteration 1, loss = 0.40886675\n",
      "Validation score: 0.932679\n",
      "Iteration 2, loss = 0.19419106\n",
      "Validation score: 0.951429\n",
      "Iteration 3, loss = 0.14385625\n",
      "Validation score: 0.960000\n",
      "Iteration 4, loss = 0.11466252\n",
      "Validation score: 0.964464\n",
      "Iteration 5, loss = 0.09499003\n",
      "Validation score: 0.965714\n",
      "Iteration 6, loss = 0.08248333\n",
      "Validation score: 0.970357\n",
      "Iteration 7, loss = 0.07131126\n",
      "Validation score: 0.970179\n",
      "Iteration 8, loss = 0.06324839\n",
      "Validation score: 0.972500\n",
      "Iteration 9, loss = 0.05644300\n",
      "Validation score: 0.973929\n",
      "Iteration 10, loss = 0.05160096\n",
      "Validation score: 0.973571\n",
      "Iteration 11, loss = 0.04799070\n",
      "Validation score: 0.975179\n",
      "Iteration 12, loss = 0.04425474\n",
      "Validation score: 0.976786\n",
      "Iteration 13, loss = 0.04104076\n",
      "Validation score: 0.975893\n",
      "Iteration 14, loss = 0.03763602\n",
      "Validation score: 0.976786\n",
      "Iteration 15, loss = 0.03603052\n",
      "Validation score: 0.977321\n",
      "Iteration 16, loss = 0.03457569\n",
      "Validation score: 0.976786\n",
      "Iteration 17, loss = 0.03249957\n",
      "Validation score: 0.977143\n",
      "Iteration 18, loss = 0.03181334\n",
      "Validation score: 0.975714\n",
      "Iteration 19, loss = 0.02977752\n",
      "Validation score: 0.975714\n",
      "Iteration 20, loss = 0.02978653\n",
      "Validation score: 0.978571\n",
      "Iteration 21, loss = 0.02934286\n",
      "Validation score: 0.976607\n",
      "Iteration 22, loss = 0.02795728\n",
      "Validation score: 0.977143\n",
      "Iteration 23, loss = 0.02738316\n",
      "Validation score: 0.978571\n",
      "Iteration 24, loss = 0.02670965\n",
      "Validation score: 0.979107\n",
      "Iteration 25, loss = 0.02619358\n",
      "Validation score: 0.978750\n",
      "Iteration 26, loss = 0.02819997\n",
      "Validation score: 0.978393\n",
      "Iteration 27, loss = 0.02621332\n",
      "Validation score: 0.978929\n",
      "Iteration 28, loss = 0.02589854\n",
      "Validation score: 0.978929\n",
      "Iteration 29, loss = 0.02502447\n",
      "Validation score: 0.977500\n",
      "Iteration 30, loss = 0.02709255\n",
      "Validation score: 0.979107\n",
      "Iteration 31, loss = 0.02559986\n",
      "Validation score: 0.977679\n",
      "Iteration 32, loss = 0.02471329\n",
      "Validation score: 0.977679\n",
      "Iteration 33, loss = 0.02488966\n",
      "Validation score: 0.978036\n",
      "Iteration 34, loss = 0.02586494\n",
      "Validation score: 0.978036\n",
      "Iteration 35, loss = 0.02418881\n",
      "Validation score: 0.980000\n",
      "Iteration 36, loss = 0.02528651\n",
      "Validation score: 0.978036\n",
      "Iteration 37, loss = 0.02552080\n",
      "Validation score: 0.977679\n",
      "Iteration 38, loss = 0.02560515\n",
      "Validation score: 0.978214\n",
      "Iteration 39, loss = 0.02353292\n",
      "Validation score: 0.978571\n",
      "Iteration 40, loss = 0.02260024\n",
      "Validation score: 0.980179\n",
      "Iteration 41, loss = 0.02229075\n",
      "Validation score: 0.974286\n",
      "Iteration 42, loss = 0.02787461\n",
      "Validation score: 0.975536\n",
      "Iteration 43, loss = 0.02727729\n",
      "Validation score: 0.980893\n",
      "Iteration 44, loss = 0.02311337\n",
      "Validation score: 0.979464\n",
      "Iteration 45, loss = 0.02140246\n",
      "Validation score: 0.978750\n",
      "Iteration 46, loss = 0.02081665\n",
      "Validation score: 0.980893\n",
      "Iteration 47, loss = 0.02203741\n",
      "Validation score: 0.975714\n",
      "Iteration 48, loss = 0.02600482\n",
      "Validation score: 0.975714\n",
      "Iteration 49, loss = 0.02760327\n",
      "Validation score: 0.978214\n",
      "Iteration 50, loss = 0.02318629\n",
      "Validation score: 0.981071\n",
      "Iteration 51, loss = 0.02097697\n",
      "Validation score: 0.981607\n",
      "Iteration 52, loss = 0.02021470\n",
      "Validation score: 0.980714\n",
      "Iteration 53, loss = 0.02073017\n",
      "Validation score: 0.976964\n",
      "Iteration 54, loss = 0.02944007\n",
      "Validation score: 0.978214\n",
      "Iteration 55, loss = 0.02511713\n",
      "Validation score: 0.980357\n",
      "Iteration 56, loss = 0.02220720\n",
      "Validation score: 0.981964\n",
      "Iteration 57, loss = 0.02025180\n",
      "Validation score: 0.981250\n",
      "Iteration 58, loss = 0.02004214\n",
      "Validation score: 0.981071\n",
      "Iteration 59, loss = 0.02032944\n",
      "Validation score: 0.980357\n",
      "Iteration 60, loss = 0.02488881\n",
      "Validation score: 0.979107\n",
      "Iteration 61, loss = 0.02380974\n",
      "Validation score: 0.979821\n",
      "Iteration 62, loss = 0.02337795\n",
      "Validation score: 0.979107\n",
      "Iteration 63, loss = 0.02235670\n",
      "Validation score: 0.979821\n",
      "Iteration 64, loss = 0.02121105\n",
      "Validation score: 0.981071\n",
      "Iteration 65, loss = 0.02151153\n",
      "Validation score: 0.981607\n",
      "Iteration 66, loss = 0.02084608\n",
      "Validation score: 0.979286\n",
      "Iteration 67, loss = 0.02106053\n",
      "Validation score: 0.979821\n",
      "Validation score did not improve more than tol=0.000010 for 10 consecutive epochs. Stopping.\n",
      "Wall time: 3min 44s\n"
     ]
    },
    {
     "data": {
      "text/plain": [
       "MLPClassifier(activation='relu', alpha=0.01, batch_size='auto', beta_1=0.9,\n",
       "              beta_2=0.999, early_stopping=True, epsilon=1e-08,\n",
       "              hidden_layer_sizes=(200,), learning_rate='constant',\n",
       "              learning_rate_init=0.001, max_iter=200, momentum=0.9,\n",
       "              n_iter_no_change=10, nesterovs_momentum=True, power_t=0.5,\n",
       "              random_state=1, shuffle=True, solver='adam', tol=1e-05,\n",
       "              validation_fraction=0.1, verbose=True, warm_start=False)"
      ]
     },
     "execution_count": 14,
     "metadata": {},
     "output_type": "execute_result"
    }
   ],
   "source": [
    "%%time\n",
    "mlp_clf = MLPClassifier(hidden_layer_sizes=(200,), max_iter=200, alpha=0.01,\n",
    "                    solver='adam', verbose=True, tol=1e-5, random_state=1, \n",
    "                    learning_rate='constant', learning_rate_init=0.001, activation='relu',\n",
    "                    early_stopping=True, n_iter_no_change=10)\n",
    "\n",
    "\n",
    "# Train the model using the non-augmented training data\n",
    "mlp_clf.fit(X_train, y_train)"
   ]
  },
  {
   "cell_type": "markdown",
   "metadata": {},
   "source": [
    "## Evaluate the Model using Test Data (Non-Augmented & Augmented)\n",
    "\n",
    "Show the training accuracy, test (non-augmented) accuracy and test (augmented) accuracy. "
   ]
  },
  {
   "cell_type": "code",
   "execution_count": 15,
   "metadata": {},
   "outputs": [
    {
     "name": "stdout",
     "output_type": "stream",
     "text": [
      "\n",
      "Training Accuracy (non-augmented):  0.9981428571428571\n",
      "\n",
      "Non-Augmented Test Accuracy (based on non-augmented model):  0.9808571428571429\n",
      "\n",
      "Augmented Test Accuracy (based on non-augmented model):   0.4307142857142857\n"
     ]
    }
   ],
   "source": [
    "y_train_predicted = mlp_clf.predict(X_train)\n",
    "accuracy_score_train_mlp = np.mean(y_train_predicted == y_train)\n",
    "print(\"\\nTraining Accuracy (non-augmented): \", accuracy_score_train_mlp)\n",
    "\n",
    "\n",
    "y_test_predicted = mlp_clf.predict(X_test)\n",
    "accuracy_score_test_mlp = np.mean(y_test_predicted == y_test)\n",
    "print(\"\\nNon-Augmented Test Accuracy (based on non-augmented model): \", accuracy_score_test_mlp)\n",
    "\n",
    "\n",
    "\n",
    "y_test_aug_predicted = mlp_clf.predict(X_test_augmented)\n",
    "accuracy_score_test_aug_mlp = np.mean(y_test_aug_predicted == y_test_augmented)\n",
    "print(\"\\nAugmented Test Accuracy (based on non-augmented model):  \", accuracy_score_test_aug_mlp)"
   ]
  },
  {
   "cell_type": "markdown",
   "metadata": {},
   "source": [
    "## Observation\n",
    "The augmented test accuracy is low because the data that we have used to train our model is not augemented. Meanwhile, the augmented test data contains images that are altered by translation of the original images. The MLP model is not invariant to the translation of the images that are used to train it."
   ]
  },
  {
   "cell_type": "markdown",
   "metadata": {},
   "source": [
    "## Detemine the Type of Data Augmentation\n",
    "\n",
    "\n",
    "We need to analyze the augmented test data (X_test_augmented) to determine what type of augmentation is required for the training data. You may want to visualize a sequence of images (from X_test_augmented) to understand the type of required data augmentation. Please show your work.\n",
    "\n",
    "For example, if you observe that images are blurred (in X_test_augmented), then augment the training data by adding Gaussian noises.    \n",
    "\n",
    "Depending on the augmentation technique, we need to determine the following parameter values for the augmentation function as well:\n",
    "- Shifting: dx & dy\n",
    "- Rotation: angle\n",
    "- Blurring: sigma\n",
    "\n",
    "We use at least four values for each parameter to augment the data."
   ]
  },
  {
   "cell_type": "code",
   "execution_count": 16,
   "metadata": {},
   "outputs": [
    {
     "data": {
      "text/plain": [
       "<matplotlib.image.AxesImage at 0x21001a1eac8>"
      ]
     },
     "execution_count": 16,
     "metadata": {},
     "output_type": "execute_result"
    },
    {
     "data": {
      "image/png": "[encoded data removed]",
      "text/plain": [
       "<Figure size 1296x432 with 5 Axes>"
      ]
     },
     "metadata": {
      "needs_background": "light"
     },
     "output_type": "display_data"
    },
    {
     "data": {
      "image/png": "[encoded data removed]",
      "text/plain": [
       "<Figure size 1296x432 with 5 Axes>"
      ]
     },
     "metadata": {
      "needs_background": "light"
     },
     "output_type": "display_data"
    },
    {
     "data": {
      "image/png": "[encoded data removed]",
      "text/plain": [
       "<Figure size 1296x432 with 5 Axes>"
      ]
     },
     "metadata": {
      "needs_background": "light"
     },
     "output_type": "display_data"
    }
   ],
   "source": [
    "'''Analysis of the augmented test data (X_test_augmented) \n",
    " to determine what type of augmentation required for the training data\n",
    "'''\n",
    "image1 = X_test_augmented[14000]\n",
    "image2 = X_test_augmented[14002]\n",
    "image3 = X_test_augmented[14003]\n",
    "image4 = X_test_augmented[14004]\n",
    "image5 = X_test_augmented[14005]\n",
    "\n",
    "plt.figure(figsize=(18,6))\n",
    "\n",
    "plt.subplot(151)\n",
    "plt.title(\"Augmented test data\", fontsize=14)\n",
    "plt.imshow(image1.reshape(28, 28), interpolation=\"nearest\", cmap=\"Greys\")\n",
    "plt.subplot(152)\n",
    "plt.imshow(image2.reshape(28, 28), interpolation=\"nearest\", cmap=\"Greys\")\n",
    "plt.subplot(153)\n",
    "plt.imshow(image3.reshape(28, 28), interpolation=\"nearest\", cmap=\"Greys\")\n",
    "plt.subplot(154)\n",
    "plt.imshow(image4.reshape(28, 28), interpolation=\"nearest\", cmap=\"Greys\")\n",
    "plt.subplot(155)\n",
    "plt.imshow(image5.reshape(28, 28), interpolation=\"nearest\", cmap=\"Greys\")\n",
    "\n",
    "'''Analysis of the non-augmented test data (X_test)'''\n",
    "image1 = X_test[0]\n",
    "image2 = X_test[2]\n",
    "image3 = X_test[3]\n",
    "image4 = X_test[4]\n",
    "image5 = X_test[5]\n",
    "\n",
    "plt.figure(figsize=(18,6))\n",
    "\n",
    "plt.subplot(151)\n",
    "plt.title(\"Original non-augmented data\", fontsize=14)\n",
    "plt.imshow(image1.reshape(28, 28), interpolation=\"nearest\", cmap=\"Greys\")\n",
    "plt.subplot(152)\n",
    "plt.imshow(image2.reshape(28, 28), interpolation=\"nearest\", cmap=\"Greys\")\n",
    "plt.subplot(153)\n",
    "plt.imshow(image3.reshape(28, 28), interpolation=\"nearest\", cmap=\"Greys\")\n",
    "plt.subplot(154)\n",
    "plt.imshow(image4.reshape(28, 28), interpolation=\"nearest\", cmap=\"Greys\")\n",
    "plt.subplot(155)\n",
    "plt.imshow(image5.reshape(28, 28), interpolation=\"nearest\", cmap=\"Greys\")\n",
    "\n",
    "image1 = X_test_augmented[44006]\n",
    "image2 = X_test_augmented[44007]\n",
    "image3 = X_test_augmented[44008]\n",
    "image4 = X_test_augmented[44009]\n",
    "image5 = X_test_augmented[44010]\n",
    "\n",
    "plt.figure(figsize=(18,6))\n",
    "\n",
    "plt.subplot(151)\n",
    "plt.title(\"Some other rotations observed\", fontsize=14)\n",
    "plt.imshow(image1.reshape(28, 28), interpolation=\"nearest\", cmap=\"Greys\")\n",
    "plt.subplot(152)\n",
    "plt.imshow(image2.reshape(28, 28), interpolation=\"nearest\", cmap=\"Greys\")\n",
    "plt.subplot(153)\n",
    "plt.imshow(image3.reshape(28, 28), interpolation=\"nearest\", cmap=\"Greys\")\n",
    "plt.subplot(154)\n",
    "plt.imshow(image4.reshape(28, 28), interpolation=\"nearest\", cmap=\"Greys\")\n",
    "plt.subplot(155)\n",
    "plt.imshow(image5.reshape(28, 28), interpolation=\"nearest\", cmap=\"Greys\")"
   ]
  },
  {
   "cell_type": "code",
   "execution_count": 17,
   "metadata": {},
   "outputs": [
    {
     "data": {
      "image/png": "[encoded data removed]",
      "text/plain": [
       "<Figure size 1296x432 with 5 Axes>"
      ]
     },
     "metadata": {
      "needs_background": "light"
     },
     "output_type": "display_data"
    }
   ],
   "source": [
    "'Recreating some rotations'\n",
    "image1 = X_test[0]\n",
    "image2 = X_test[2]\n",
    "image3 = X_test[3]\n",
    "image4 = X_test[4]\n",
    "image5 = X_test[5]\n",
    "\n",
    "rotated_image_1 = rotate_image(image1, 35)\n",
    "rotated_image_2 = rotate_image(image2, 50)\n",
    "rotated_image_3 = rotate_image(image3, 35)\n",
    "rotated_image_4 = rotate_image(image4, 35)\n",
    "rotated_image_5 = rotate_image(image5, 45)\n",
    "\n",
    "plt.figure(figsize=(18,6))\n",
    "plt.subplot(151)\n",
    "plt.title(\"Rotated\", fontsize=14)\n",
    "plt.imshow(rotated_image_1.reshape(28, 28), interpolation=\"nearest\", cmap=\"Greys\")\n",
    "plt.subplot(152)\n",
    "plt.title(\"Rotated\", fontsize=14)\n",
    "plt.imshow(rotated_image_2.reshape(28, 28), interpolation=\"nearest\", cmap=\"Greys\")\n",
    "plt.subplot(153)\n",
    "plt.title(\"Rotated\", fontsize=14)\n",
    "plt.imshow(rotated_image_3.reshape(28, 28), interpolation=\"nearest\", cmap=\"Greys\")\n",
    "plt.subplot(154)\n",
    "plt.title(\"Rotated\", fontsize=14)\n",
    "plt.imshow(rotated_image_4.reshape(28, 28), interpolation=\"nearest\", cmap=\"Greys\")\n",
    "plt.subplot(155)\n",
    "plt.title(\"Rotated\", fontsize=14)\n",
    "plt.imshow(rotated_image_5.reshape(28, 28), interpolation=\"nearest\", cmap=\"Greys\")\n",
    "plt.show()"
   ]
  },
  {
   "cell_type": "markdown",
   "metadata": {},
   "source": [
    "After obeserving the augmented test set, it is clear that there is some degree of rotation in the original images (towards the left ie. positive angle rotation).\n",
    "\n",
    "We listed a sequence of images from the augmented test set and compared it to the original images in the non-augmented test set. After this, we tried to recreate the rotation by tuning through trail and error to get the augmentation as close to the test dataset as possible."
   ]
  },
  {
   "cell_type": "markdown",
   "metadata": {},
   "source": [
    "## Augment the Training Data"
   ]
  },
  {
   "cell_type": "code",
   "execution_count": 18,
   "metadata": {},
   "outputs": [
    {
     "name": "stdout",
     "output_type": "stream",
     "text": [
      "X_train_augmented Shape:  (280000, 784)\n",
      "Wall time: 51 s\n"
     ]
    }
   ],
   "source": [
    "%%time\n",
    "\n",
    "X_train_augmented = [image for image in X_train_original ]\n",
    "y_train_augmented = [label for label in y_train]\n",
    "\n",
    "# Augmentation by rotating\n",
    "for angle in (45,90,180,270): #35 ,70, 120, 150\n",
    "    for image, label in zip(X_train_original, y_train):\n",
    "        X_train_augmented.append(rotate_image(image, angle))\n",
    "        y_train_augmented.append(label)\n",
    "        \n",
    "X_train_augmented = [image for image in X_train_augmented ]\n",
    "y_train_augmented = [label for label in y_train_augmented]\n",
    "        \n",
    "X_train_augmented = np.array(X_train_augmented)\n",
    "y_train_augmented = np.array(y_train_augmented)\n",
    "\n",
    "print(\"X_train_augmented Shape: \", X_train_augmented.shape)"
   ]
  },
  {
   "cell_type": "markdown",
   "metadata": {},
   "source": [
    "## Randomize the Augmented Data"
   ]
  },
  {
   "cell_type": "code",
   "execution_count": 19,
   "metadata": {},
   "outputs": [],
   "source": [
    "shuffle_idx = np.random.permutation(len(X_train_augmented))\n",
    "X_train_augmented = X_train_augmented[shuffle_idx]\n",
    "y_train_augmented = y_train_augmented[shuffle_idx]"
   ]
  },
  {
   "cell_type": "markdown",
   "metadata": {},
   "source": [
    "## Scale the Augmented Training Data"
   ]
  },
  {
   "cell_type": "code",
   "execution_count": 20,
   "metadata": {},
   "outputs": [],
   "source": [
    "X_train_augmented /= 255.0"
   ]
  },
  {
   "cell_type": "markdown",
   "metadata": {},
   "source": [
    "## Train MLP Model using Augmened Training Data"
   ]
  },
  {
   "cell_type": "code",
   "execution_count": 21,
   "metadata": {},
   "outputs": [
    {
     "name": "stdout",
     "output_type": "stream",
     "text": [
      "Iteration 1, loss = 0.54551092\n",
      "Validation score: 0.913607\n",
      "Iteration 2, loss = 0.26666069\n",
      "Validation score: 0.933750\n",
      "Iteration 3, loss = 0.21615740\n",
      "Validation score: 0.939357\n",
      "Iteration 4, loss = 0.19034740\n",
      "Validation score: 0.947286\n",
      "Iteration 5, loss = 0.17475470\n",
      "Validation score: 0.949536\n",
      "Iteration 6, loss = 0.16349685\n",
      "Validation score: 0.950071\n",
      "Iteration 7, loss = 0.15506888\n",
      "Validation score: 0.950786\n",
      "Iteration 8, loss = 0.14799424\n",
      "Validation score: 0.953714\n",
      "Iteration 9, loss = 0.14240915\n",
      "Validation score: 0.952286\n",
      "Iteration 10, loss = 0.13848040\n",
      "Validation score: 0.952179\n",
      "Iteration 11, loss = 0.13509295\n",
      "Validation score: 0.955786\n",
      "Iteration 12, loss = 0.13218546\n",
      "Validation score: 0.954536\n",
      "Iteration 13, loss = 0.12838440\n",
      "Validation score: 0.954286\n",
      "Iteration 14, loss = 0.12592993\n",
      "Validation score: 0.956893\n",
      "Iteration 15, loss = 0.12451704\n",
      "Validation score: 0.955179\n",
      "Iteration 16, loss = 0.12229556\n",
      "Validation score: 0.955643\n",
      "Iteration 17, loss = 0.12084768\n",
      "Validation score: 0.955143\n",
      "Iteration 18, loss = 0.11846991\n",
      "Validation score: 0.955571\n",
      "Iteration 19, loss = 0.11739775\n",
      "Validation score: 0.954679\n",
      "Iteration 20, loss = 0.11581000\n",
      "Validation score: 0.955321\n",
      "Iteration 21, loss = 0.11471299\n",
      "Validation score: 0.956821\n",
      "Iteration 22, loss = 0.11350253\n",
      "Validation score: 0.956357\n",
      "Iteration 23, loss = 0.11229044\n",
      "Validation score: 0.958286\n",
      "Iteration 24, loss = 0.11167266\n",
      "Validation score: 0.953893\n",
      "Iteration 25, loss = 0.11054459\n",
      "Validation score: 0.956143\n",
      "Iteration 26, loss = 0.10956519\n",
      "Validation score: 0.955679\n",
      "Iteration 27, loss = 0.10965484\n",
      "Validation score: 0.954071\n",
      "Iteration 28, loss = 0.10760142\n",
      "Validation score: 0.956000\n",
      "Iteration 29, loss = 0.10751799\n",
      "Validation score: 0.957286\n",
      "Iteration 30, loss = 0.10708037\n",
      "Validation score: 0.956714\n",
      "Iteration 31, loss = 0.10653954\n",
      "Validation score: 0.957286\n",
      "Iteration 32, loss = 0.10613562\n",
      "Validation score: 0.956214\n",
      "Iteration 33, loss = 0.10569153\n",
      "Validation score: 0.954607\n",
      "Iteration 34, loss = 0.10384603\n",
      "Validation score: 0.957429\n",
      "Validation score did not improve more than tol=0.000010 for 10 consecutive epochs. Stopping.\n",
      "Wall time: 9min 17s\n"
     ]
    },
    {
     "data": {
      "text/plain": [
       "MLPClassifier(activation='relu', alpha=0.01, batch_size='auto', beta_1=0.9,\n",
       "              beta_2=0.999, early_stopping=True, epsilon=1e-08,\n",
       "              hidden_layer_sizes=(200,), learning_rate='constant',\n",
       "              learning_rate_init=0.001, max_iter=200, momentum=0.9,\n",
       "              n_iter_no_change=10, nesterovs_momentum=True, power_t=0.5,\n",
       "              random_state=1, shuffle=True, solver='adam', tol=1e-05,\n",
       "              validation_fraction=0.1, verbose=True, warm_start=False)"
      ]
     },
     "execution_count": 21,
     "metadata": {},
     "output_type": "execute_result"
    }
   ],
   "source": [
    "%%time\n",
    "mlp_clf = MLPClassifier(hidden_layer_sizes=(200,), max_iter=200, alpha=0.01,\n",
    "                    solver='adam', verbose=True, tol=1e-5, random_state=1, \n",
    "                    learning_rate='constant', learning_rate_init=0.001, activation='relu',\n",
    "                    early_stopping=True, n_iter_no_change=10)\n",
    "\n",
    "\n",
    "# Train the model using the augmented training data\n",
    "mlp_clf.fit(X_train_augmented, y_train_augmented)\n"
   ]
  },
  {
   "cell_type": "markdown",
   "metadata": {},
   "source": [
    "## Evaluate the Model using Test Data (Non-Augmented & Augmented)\n",
    "Show the training accuracy, test (non-augmented) accuracy and test (augmented) accuracy. "
   ]
  },
  {
   "cell_type": "code",
   "execution_count": 22,
   "metadata": {},
   "outputs": [
    {
     "name": "stdout",
     "output_type": "stream",
     "text": [
      "\n",
      "Training Accuracy (based on augmented model):  0.9827607142857143\n",
      "\n",
      "Non-Augmented Test Accuracy (based on augmented model):  0.9584285714285714\n",
      "\n",
      "Augmented Test Accuracy (based on augmented model):   0.8720142857142857\n"
     ]
    }
   ],
   "source": [
    "y_train_predicted = mlp_clf.predict(X_train_augmented)\n",
    "accuracy_score_train_mlp = np.mean(y_train_predicted == y_train_augmented)\n",
    "print(\"\\nTraining Accuracy (based on augmented model): \", accuracy_score_train_mlp)\n",
    "\n",
    "\n",
    "y_test_predicted = mlp_clf.predict(X_test)\n",
    "accuracy_score_test_mlp = np.mean(y_test_predicted == y_test)\n",
    "print(\"\\nNon-Augmented Test Accuracy (based on augmented model): \", accuracy_score_test_mlp)\n",
    "\n",
    "\n",
    "y_test_aug_predicted = mlp_clf.predict(X_test_augmented)\n",
    "accuracy_score_test_aug_mlp = np.mean(y_test_aug_predicted == y_test_augmented)\n",
    "print(\"\\nAugmented Test Accuracy (based on augmented model):  \", accuracy_score_test_aug_mlp)"
   ]
  },
  {
   "cell_type": "code",
   "execution_count": null,
   "metadata": {},
   "outputs": [],
   "source": []
  }
 ],
 "metadata": {
  "anaconda-cloud": {},
  "kernelspec": {
   "display_name": "Python 3",
   "language": "python",
   "name": "python3"
  },
  "language_info": {
   "codemirror_mode": {
    "name": "ipython",
    "version": 3
   },
   "file_extension": ".py",
   "mimetype": "text/x-python",
   "name": "python",
   "nbconvert_exporter": "python",
   "pygments_lexer": "ipython3",
   "version": "3.7.5"
  }
 },
 "nbformat": 4,
 "nbformat_minor": 1
}
